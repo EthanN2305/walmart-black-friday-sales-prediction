{
 "cells": [
  {
   "cell_type": "code",
   "execution_count": 4,
   "id": "c308d081-a68c-4815-a2af-447357daee21",
   "metadata": {},
   "outputs": [],
   "source": [
    "import pandas as pd\n",
    "from random import sample\n",
    "\n",
    "walmart_data = pd.read_csv(\"walmart_data.csv\")\n",
    "sum_purchases = walmart_data.groupby(['User_ID', 'Gender', 'Age', 'Occupation', 'City_Category', 'Stay_In_Current_City_Years', 'Marital_Status', 'Product_Category'])['Purchase'].sum().reset_index()"
   ]
  },
  {
   "cell_type": "code",
   "execution_count": 8,
   "id": "ed3798ac-8f7d-4859-b36d-2f1876d9da13",
   "metadata": {},
   "outputs": [
    {
     "data": {
      "text/plain": [
       "True"
      ]
     },
     "execution_count": 8,
     "metadata": {},
     "output_type": "execute_result"
    }
   ],
   "source": [
    "# split data into training, validation, and testing sets\n",
    "unique_ids = sum_purchases['User_ID'].unique().tolist()\n",
    "\n",
    "# training set = sample 60% of data (5891 unique_ids; 3535 is 60% of 5891)\n",
    "training_set = sample(unique_ids, 3535)\n",
    "\n",
    "# validation set = sample 30% of data (2356 remaining; 1767 is 75% of 2356)\n",
    "remaining_set = [i for i in unique_ids if i not in training_set]\n",
    "validation_set = sample(remaining_set, 1767)\n",
    "\n",
    "# testing set = sample 10% of data (rest of data that is not in validation set)\n",
    "testing_set = [i for i in remaining_set if i not in validation_set]\n",
    "\n",
    "len(training_set) + len(validation_set) + len(testing_set) == len(unique_ids)"
   ]
  },
  {
   "cell_type": "code",
   "execution_count": 7,
   "id": "efb0cdc6-552e-4d78-bfed-fe21a429434c",
   "metadata": {},
   "outputs": [
    {
     "data": {
      "text/plain": [
       "True"
      ]
     },
     "execution_count": 7,
     "metadata": {},
     "output_type": "execute_result"
    }
   ],
   "source": [
    "# get dataframes separating training (60%), validation (30%), testing sets (10%)\n",
    "training_df = sum_purchases[sum_purchases[\"User_ID\"].isin(training_set)]\n",
    "validation_df = sum_purchases[sum_purchases[\"User_ID\"].isin(validation_set)]\n",
    "testing_df = sum_purchases[sum_purchases[\"User_ID\"].isin(testing_set)]\n",
    "\n",
    "len(training_df) + len(validation_df) + len(testing_df) == len(sum_purchases)"
   ]
  },
  {
   "cell_type": "code",
   "execution_count": null,
   "id": "f1019bea-ef57-4f57-b03f-9726e54dae85",
   "metadata": {},
   "outputs": [],
   "source": [
    "# make csv of dfs\n",
    "training_df.to_csv(\"train_data.csv\", index = False)\n",
    "validation_df.to_csv(\"validation_data.csv\", index = False)\n",
    "testing_df.to_csv(\"test_data.csv\", index = False)"
   ]
  }
 ],
 "metadata": {
  "kernelspec": {
   "display_name": "Python 3 (ipykernel)",
   "language": "python",
   "name": "python3"
  },
  "language_info": {
   "codemirror_mode": {
    "name": "ipython",
    "version": 3
   },
   "file_extension": ".py",
   "mimetype": "text/x-python",
   "name": "python",
   "nbconvert_exporter": "python",
   "pygments_lexer": "ipython3",
   "version": "3.12.6"
  }
 },
 "nbformat": 4,
 "nbformat_minor": 5
}
