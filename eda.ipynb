{
 "cells": [
  {
   "cell_type": "markdown",
   "metadata": {},
   "source": [
    "# Black Friday Exploratory Data Analysis\n",
    "\n",
    "Within this notebook, there are several graphs that are used to analyze the Black Friday dataset. The dataset contains 550,068 observations and 10 variables. The variables are as follows:\n",
    "- User_ID: User ID\n",
    "- Product_ID: Product ID (Masked)\n",
    "- Gender: M = male, F = female (binary)\n",
    "- Age: Age of the user (0-17, 18-25, 26-35, 36-45, 46-50, 51-55, 55+)\n",
    "- Occupation: Occupation (Masked)\n",
    "- City_Category: Category of the city, either A, B, or C (Masked)\n",
    "- Stay_In_Current_City_Years: Number of years the user has stayed in the current city\n",
    "- Marital_Status: 0 = Single, 1= Married (binary)\n",
    "- Product_Category: Product category ID from 1 to 20 (Masked)\n",
    "- Purchase: Purchase amount in dollars (continuous, nominal)\n",
    "\n",
    "There are totally 5891 unique users and 3631 unique products in the dataset. The dataset is quite large and contains a lot of information. The goal of this notebook is to analyze the data and provide insights into the data."
   ]
  },
  {
   "cell_type": "code",
   "execution_count": null,
   "metadata": {},
   "outputs": [],
   "source": []
  }
 ],
 "metadata": {
  "kernelspec": {
   "display_name": "Python 3 (ipykernel)",
   "language": "python",
   "name": "python3"
  },
  "language_info": {
   "codemirror_mode": {
    "name": "ipython",
    "version": 3
   },
   "file_extension": ".py",
   "mimetype": "text/x-python",
   "name": "python",
   "nbconvert_exporter": "python",
   "pygments_lexer": "ipython3",
   "version": "3.12.6"
  }
 },
 "nbformat": 4,
 "nbformat_minor": 4
}
