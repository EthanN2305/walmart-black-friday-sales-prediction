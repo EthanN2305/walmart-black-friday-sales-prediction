{
 "cells": [
  {
   "cell_type": "code",
   "execution_count": 1,
   "id": "c308d081-a68c-4815-a2af-447357daee21",
   "metadata": {},
   "outputs": [],
   "source": [
    "import pandas as pd\n",
    "from random import sample"
   ]
  },
  {
   "cell_type": "code",
   "execution_count": 2,
   "id": "ed3798ac-8f7d-4859-b36d-2f1876d9da13",
   "metadata": {},
   "outputs": [
    {
     "name": "stdout",
     "output_type": "stream",
     "text": [
      "<class 'pandas.core.frame.DataFrame'>\n",
      "RangeIndex: 550068 entries, 0 to 550067\n",
      "Data columns (total 12 columns):\n",
      " #   Column                      Non-Null Count   Dtype\n",
      "---  ------                      --------------   -----\n",
      " 0   User_ID                     550068 non-null  int64\n",
      " 1   Age                         550068 non-null  int8 \n",
      " 2   Occupation                  550068 non-null  int64\n",
      " 3   Stay_In_Current_City_Years  550068 non-null  int8 \n",
      " 4   Marital_Status              550068 non-null  int64\n",
      " 5   Product_Category            550068 non-null  int64\n",
      " 6   Purchase                    550068 non-null  int64\n",
      " 7   Gender_F                    550068 non-null  bool \n",
      " 8   Gender_M                    550068 non-null  bool \n",
      " 9   City_Category_A             550068 non-null  bool \n",
      " 10  City_Category_B             550068 non-null  bool \n",
      " 11  City_Category_C             550068 non-null  bool \n",
      "dtypes: bool(5), int64(5), int8(2)\n",
      "memory usage: 24.7 MB\n"
     ]
    }
   ],
   "source": [
    "# Manipulate the data to calculate the total purchase amount for each user by the \n",
    "# product category they bought\n",
    "\n",
    "df = pd.read_csv('../data/walmart_data.csv')\n",
    "\n",
    "# Use ordinal encoding for the age column and stay in city years column\n",
    "age_order = ['0-17', '18-25', '26-35', '36-45', '46-50', '51-55', '55+']\n",
    "age_type = pd.CategoricalDtype(categories=age_order, ordered=True)\n",
    "\n",
    "df['Age'] = df['Age'].astype(age_type)\n",
    "df['Age'] = df['Age'].cat.codes\n",
    "\n",
    "stay_years = ['0', '1', '2', '3', '4+']\n",
    "stay_type = pd.CategoricalDtype(categories=stay_years, ordered=True)\n",
    "\n",
    "df['Stay_In_Current_City_Years'] = df['Stay_In_Current_City_Years'].astype(stay_type)\n",
    "df['Stay_In_Current_City_Years'] = df['Stay_In_Current_City_Years'].cat.codes\n",
    "\n",
    "# Use one-hot for the rest of the categorical columns\n",
    "# This is because we don't want to introduce any ordinality in the data\n",
    "\n",
    "import sklearn.preprocessing as skp\n",
    "\n",
    "df = pd.get_dummies(df, columns=['Gender', 'City_Category'])\n",
    "\n",
    "df = df.drop(columns=['Product_ID'])\n",
    "\n",
    "df.info()"
   ]
  },
  {
   "cell_type": "code",
   "execution_count": 3,
   "id": "c516105b",
   "metadata": {},
   "outputs": [],
   "source": [
    "data = df.groupby(by = ['User_ID', 'Product_Category']).agg({\n",
    "    'Gender_F': 'first',\n",
    "    'Gender_M': 'first',\n",
    "    'Age': 'first',\n",
    "    'Occupation': 'first',\n",
    "    'City_Category_A': 'first',\n",
    "    'City_Category_B': 'first',\n",
    "    'City_Category_C': 'first',\n",
    "    'Stay_In_Current_City_Years': 'first',\n",
    "    'Marital_Status': 'first',\n",
    "    'Purchase': 'sum'\n",
    "}).reset_index()\n",
    "data.to_csv(\"../data/user_product_category.csv\", index=False)"
   ]
  },
  {
   "cell_type": "code",
   "execution_count": 4,
   "id": "cb48c713",
   "metadata": {},
   "outputs": [
    {
     "name": "stdout",
     "output_type": "stream",
     "text": [
      "56782\n"
     ]
    }
   ],
   "source": [
    "data = pd.read_csv(\"../data/user_product_category.csv\")\n",
    "print(len(data))\n",
    "\n",
    "# Sample 60% of the data\n",
    "import random\n",
    "random.seed(0)\n",
    "unique_ids = data[\"User_ID\"].unique()\n",
    "train = random.sample(list(unique_ids), int(0.6 * len(unique_ids)))\n",
    "train_data = data[data[\"User_ID\"].isin(train)]\n",
    "train_data.to_csv(\"../data/train_data.csv\", index=False)\n",
    "\n",
    "# Sample 40% * 75% = 30% of the data\n",
    "data = data[~data[\"User_ID\"].isin(train)]\n",
    "unique_ids = data[\"User_ID\"].unique()\n",
    "validation = random.sample(list(unique_ids), int(0.75 * len(unique_ids)))\n",
    "validation_data = data[data[\"User_ID\"].isin(validation)]\n",
    "validation_data.to_csv(\"../data/validation_data.csv\", index=False)\n",
    "\n",
    "# Sample remaining 40% * 25% = 10% of the data\n",
    "test_data = data[~data[\"User_ID\"].isin(validation)]\n",
    "test_data.to_csv(\"../data/test_data.csv\", index=False)"
   ]
  },
  {
   "cell_type": "code",
   "execution_count": 5,
   "id": "43a2c988",
   "metadata": {},
   "outputs": [
    {
     "name": "stdout",
     "output_type": "stream",
     "text": [
      "56782\n"
     ]
    }
   ],
   "source": [
    "# Confirm the split of the data\n",
    "train_data = pd.read_csv(\"../data/train_data.csv\")\n",
    "validation_data = pd.read_csv(\"../data/validation_data.csv\")\n",
    "test_data = pd.read_csv(\"../data/test_data.csv\")\n",
    "\n",
    "print(len(train_data) + len(validation_data) + len(test_data))"
   ]
  },
  {
   "cell_type": "code",
   "execution_count": 6,
   "id": "f1019bea-ef57-4f57-b03f-9726e54dae85",
   "metadata": {},
   "outputs": [
    {
     "ename": "NameError",
     "evalue": "name 'training_df' is not defined",
     "output_type": "error",
     "traceback": [
      "\u001b[0;31m---------------------------------------------------------------------------\u001b[0m",
      "\u001b[0;31mNameError\u001b[0m                                 Traceback (most recent call last)",
      "Cell \u001b[0;32mIn[6], line 2\u001b[0m\n\u001b[1;32m      1\u001b[0m \u001b[38;5;66;03m# make csv of dfs\u001b[39;00m\n\u001b[0;32m----> 2\u001b[0m \u001b[43mtraining_df\u001b[49m\u001b[38;5;241m.\u001b[39mto_csv(\u001b[38;5;124m\"\u001b[39m\u001b[38;5;124m../data/train_data.csv\u001b[39m\u001b[38;5;124m\"\u001b[39m, index \u001b[38;5;241m=\u001b[39m \u001b[38;5;28;01mFalse\u001b[39;00m)\n\u001b[1;32m      3\u001b[0m validation_df\u001b[38;5;241m.\u001b[39mto_csv(\u001b[38;5;124m\"\u001b[39m\u001b[38;5;124m../data/validation_data.csv\u001b[39m\u001b[38;5;124m\"\u001b[39m, index \u001b[38;5;241m=\u001b[39m \u001b[38;5;28;01mFalse\u001b[39;00m)\n\u001b[1;32m      4\u001b[0m testing_df\u001b[38;5;241m.\u001b[39mto_csv(\u001b[38;5;124m\"\u001b[39m\u001b[38;5;124m../data/test_data.csv\u001b[39m\u001b[38;5;124m\"\u001b[39m, index \u001b[38;5;241m=\u001b[39m \u001b[38;5;28;01mFalse\u001b[39;00m)\n",
      "\u001b[0;31mNameError\u001b[0m: name 'training_df' is not defined"
     ]
    }
   ],
   "source": [
    "# make csv of dfs\n",
    "training_df.to_csv(\"../data/train_data.csv\", index = False)\n",
    "validation_df.to_csv(\"../data/validation_data.csv\", index = False)\n",
    "testing_df.to_csv(\"../data/test_data.csv\", index = False)"
   ]
  }
 ],
 "metadata": {
  "kernelspec": {
   "display_name": "Python 3",
   "language": "python",
   "name": "python3"
  },
  "language_info": {
   "codemirror_mode": {
    "name": "ipython",
    "version": 3
   },
   "file_extension": ".py",
   "mimetype": "text/x-python",
   "name": "python",
   "nbconvert_exporter": "python",
   "pygments_lexer": "ipython3",
   "version": "3.10.12"
  }
 },
 "nbformat": 4,
 "nbformat_minor": 5
}
