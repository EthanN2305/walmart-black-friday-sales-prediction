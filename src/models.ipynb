{
 "cells": [
  {
   "cell_type": "code",
   "execution_count": 10,
   "metadata": {},
   "outputs": [],
   "source": [
    "import pandas as pd\n",
    "import joblib\n",
    "\n",
    "from sklearn.metrics import mean_squared_error as mse\n",
    "from sklearn.metrics import r2_score\n",
    "\n",
    "import numpy as np\n",
    "\n",
    "import math\n",
    "\n",
    "train = pd.read_csv(\"../data/train_data.csv\")\n",
    "\n",
    "X = train.drop(columns=[\"User_ID\", \"Purchase\"])\n",
    "Y = np.log(train[\"Purchase\"])\n",
    "\n",
    "test = pd.read_csv(\"../data/test_data.csv\")\n",
    "\n",
    "X_test = test.drop(columns=[\"User_ID\", \"Purchase\"])\n",
    "Y_test = np.log(test[\"Purchase\"])"
   ]
  },
  {
   "cell_type": "code",
   "execution_count": 11,
   "metadata": {},
   "outputs": [
    {
     "name": "stdout",
     "output_type": "stream",
     "text": [
      "1.687759272265369\n",
      "0.37407083445386946\n"
     ]
    }
   ],
   "source": [
    "from sklearn.linear_model import LinearRegression\n",
    "\n",
    "lr = LinearRegression()\n",
    "lr.fit(X, Y)\n",
    "\n",
    "joblib.dump(lr, \"../models/linear_model.pkl\")\n",
    "\n",
    "Y_pred = lr.predict(X_test)\n",
    "\n",
    "print(math.sqrt(mse(Y_test, Y_pred)))\n",
    "print(r2_score(Y_test, Y_pred))"
   ]
  },
  {
   "cell_type": "code",
   "execution_count": 12,
   "metadata": {},
   "outputs": [
    {
     "name": "stdout",
     "output_type": "stream",
     "text": [
      "0.9678034388272168\n",
      "0.7941842979168563\n"
     ]
    }
   ],
   "source": [
    "from sklearn.ensemble import RandomForestRegressor\n",
    "\n",
    "rfr = RandomForestRegressor(n_estimators=100, max_depth=10, random_state=42, n_jobs=-1)\n",
    "rfr.fit(X, Y)\n",
    "\n",
    "joblib.dump(rfr, \"../models/random_forest_model.pkl\")\n",
    "\n",
    "Y_pred = rfr.predict(X_test)\n",
    "\n",
    "print(math.sqrt(mse(Y_test, Y_pred)))\n",
    "print(r2_score(Y_test, Y_pred))"
   ]
  },
  {
   "cell_type": "code",
   "execution_count": 13,
   "metadata": {},
   "outputs": [
    {
     "name": "stdout",
     "output_type": "stream",
     "text": [
      "0.9846310066878726\n",
      "0.7869648831297031\n"
     ]
    }
   ],
   "source": [
    "# MLP Classifier\n",
    "\n",
    "from sklearn.neural_network import MLPRegressor\n",
    "\n",
    "mlp = MLPRegressor(hidden_layer_sizes=(10, 50, 30), activation = 'relu', solver='adam',\n",
    "                   max_iter=300, random_state=20)\n",
    "mlp.fit(X, Y)\n",
    "\n",
    "joblib.dump(mlp, \"../models/mlp_model.pkl\")\n",
    "\n",
    "Y_pred = mlp.predict(X_test)\n",
    "\n",
    "print(math.sqrt(mse(Y_test, Y_pred)))\n",
    "print(r2_score(Y_test, Y_pred))"
   ]
  },
  {
   "cell_type": "code",
   "execution_count": 14,
   "metadata": {},
   "outputs": [
    {
     "name": "stdout",
     "output_type": "stream",
     "text": [
      "Linear Regression RMSE:  1.660081104885919\n",
      "\n",
      "Linear Regression R2:  0.38142769703748014\n",
      "\n",
      "Random Forest RMSE:  0.948364497933683\n",
      "\n",
      "Random Forest R2:  0.798125049624682\n",
      "\n",
      "MLP Classifier RMSE:  0.9617936671488875\n",
      "\n",
      "MLP Classifier R2:  0.7923673323869171\n"
     ]
    }
   ],
   "source": [
    "validation = pd.read_csv(\"../data/validation_data.csv\")\n",
    "\n",
    "X_val = validation.drop(columns=[\"User_ID\", \"Purchase\"])\n",
    "Y_val = np.log(validation[\"Purchase\"])\n",
    "\n",
    "# Linear Regression\n",
    "Y_pred = lr.predict(X_val)\n",
    "print(\"Linear Regression RMSE: \", math.sqrt(mse(Y_val, Y_pred)))\n",
    "print(\"\\nLinear Regression R2: \", r2_score(Y_val, Y_pred))\n",
    "\n",
    "# Random Forest\n",
    "Y_pred = rfr.predict(X_val)\n",
    "print(\"\\nRandom Forest RMSE: \", math.sqrt(mse(Y_val, Y_pred)))\n",
    "print(\"\\nRandom Forest R2: \", r2_score(Y_val, Y_pred))\n",
    "\n",
    "# MLP Classifier\n",
    "Y_pred = mlp.predict(X_val)\n",
    "print(\"\\nMLP Classifier RMSE: \", math.sqrt(mse(Y_val, Y_pred)))\n",
    "print(\"\\nMLP Classifier R2: \", r2_score(Y_val, Y_pred))"
   ]
  }
 ],
 "metadata": {
  "kernelspec": {
   "display_name": "Python 3",
   "language": "python",
   "name": "python3"
  },
  "language_info": {
   "codemirror_mode": {
    "name": "ipython",
    "version": 3
   },
   "file_extension": ".py",
   "mimetype": "text/x-python",
   "name": "python",
   "nbconvert_exporter": "python",
   "pygments_lexer": "ipython3",
   "version": "3.10.12"
  }
 },
 "nbformat": 4,
 "nbformat_minor": 2
}
